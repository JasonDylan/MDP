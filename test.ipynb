{
 "cells": [
  {
   "cell_type": "code",
   "execution_count": 3,
   "metadata": {},
   "outputs": [],
   "source": [
    "import json\n",
    "import pickle\n",
    "\n",
    "\n",
    "J = 10000\n",
    "S_n = 5\n",
    "solution_types = 4\n",
    "T_values = [7, 14, 21]\n",
    "Z_values = [3, 5, 9]\n",
    "all_json = []\n",
    "def get_json(json_file_path):\n",
    "    # Read JSON file\n",
    "    with open(json_file_path, \"r\") as file:\n",
    "        json_data = json.load(file)\n",
    "    return json_data\n",
    "for T in T_values:\n",
    "    for Z in Z_values:\n",
    "        json_file_path = f\"./data/save_params/s_value_s_values_{T}_{Z}_{J}.json\"\n",
    "        all_json.append(get_json(json_file_path))\n"
   ]
  },
  {
   "cell_type": "code",
   "execution_count": 1,
   "metadata": {},
   "outputs": [
    {
     "name": "stdout",
     "output_type": "stream",
     "text": [
      "CSV 文件已生成：travel_fee_path='init/travel_fee.csv'\n",
      "CSV 文件已生成：arriving_rate_path='init/arriving_rate.csv'\n"
     ]
    }
   ],
   "source": [
    "from task_allocation_problem import TaskRunner\n",
    "task = TaskRunner()\n",
    "task.init_a_problem()"
   ]
  },
  {
   "cell_type": "code",
   "execution_count": null,
   "metadata": {},
   "outputs": [],
   "source": [
    "1. 为什么不同的Z的结果一样\n",
    "因为对于S0 可能命中率低，加上之前的没有限制X（基于这个问题，应该要问\n",
    "2. 为什么Z越小反而命中率小？\n",
    "\n",
    "# todo \n",
    "3.arrving_rate/ 保存到init 文件夹\n",
    "# city_collection 保存到init 文件夹\n",
    "a_keys = all_json."
   ]
  }
 ],
 "metadata": {
  "kernelspec": {
   "display_name": "base",
   "language": "python",
   "name": "python3"
  },
  "language_info": {
   "codemirror_mode": {
    "name": "ipython",
    "version": 3
   },
   "file_extension": ".py",
   "mimetype": "text/x-python",
   "name": "python",
   "nbconvert_exporter": "python",
   "pygments_lexer": "ipython3",
   "version": "3.9.12"
  }
 },
 "nbformat": 4,
 "nbformat_minor": 2
}
