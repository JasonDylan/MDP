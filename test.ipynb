{
 "cells": [
  {
   "cell_type": "code",
   "execution_count": 1,
   "metadata": {},
   "outputs": [],
   "source": [
    "import json\n",
    "import pickle\n",
    "\n",
    "\n",
    "J = 10000\n",
    "S_n = 5\n",
    "solution_types = 4\n",
    "T_values = [7, 14, 21]\n",
    "Z_values = [3, 5, 9]\n",
    "all_json = {}\n",
    "def get_json(json_file_path):\n",
    "    # Read JSON file\n",
    "    with open(json_file_path, \"r\") as file:\n",
    "        json_data = json.load(file)\n",
    "    return json_data\n",
    "for T in T_values:\n",
    "    for Z in Z_values:\n",
    "        json_file_path = f\"./data/save_params/s_value_s_values_{T}_{Z}_{J}.json\"\n",
    "        all_json.update({(T,Z,J):get_json(json_file_path)})\n"
   ]
  },
  {
   "cell_type": "code",
   "execution_count": 2,
   "metadata": {},
   "outputs": [
    {
     "name": "stdout",
     "output_type": "stream",
     "text": [
      "CSV 文件已生成：travel_fee_path='init/travel_fee.csv'\n",
      "CSV 文件已生成：arriving_rate_path='init/arriving_rate.csv'\n"
     ]
    }
   ],
   "source": [
    "from task_allocation_problem import TaskRunner\n",
    "task = TaskRunner()\n",
    "task.init_a_problem()"
   ]
  },
  {
   "cell_type": "code",
   "execution_count": 3,
   "metadata": {},
   "outputs": [
    {
     "name": "stdout",
     "output_type": "stream",
     "text": [
      "CSV 文件已生成：travel_fee_path='init/travel_fee.csv'\n",
      "CSV 文件已生成：arriving_rate_path='init/arriving_rate.csv'\n",
      "{(7, 3, 10000): None, (7, 5, 10000): None, (7, 9, 10000): None, (14, 3, 10000): None, (14, 5, 10000): None, (14, 9, 10000): None, (21, 3, 10000): None, (21, 5, 10000): None, (21, 9, 10000): None}\n",
      "CSV 文件已生成：travel_fee_path='init/travel_fee.csv'\n",
      "CSV 文件已生成：arriving_rate_path='init/arriving_rate.csv'\n",
      "None\n"
     ]
    },
    {
     "ename": "TypeError",
     "evalue": "'NoneType' object is not subscriptable",
     "output_type": "error",
     "traceback": [
      "\u001b[0;31m---------------------------------------------------------------------------\u001b[0m",
      "\u001b[0;31mTypeError\u001b[0m                                 Traceback (most recent call last)",
      "Input \u001b[0;32mIn [3]\u001b[0m, in \u001b[0;36m<cell line: 1>\u001b[0;34m()\u001b[0m\n\u001b[0;32m----> 1\u001b[0m \u001b[43mtask\u001b[49m\u001b[38;5;241;43m.\u001b[39;49m\u001b[43mrun_benchmark_count_big_1\u001b[49m\u001b[43m(\u001b[49m\u001b[43m)\u001b[49m\n",
      "File \u001b[0;32m~/code/MDP/task_allocation_problem.py:92\u001b[0m, in \u001b[0;36mTaskRunner.run_benchmark_count_big_1\u001b[0;34m(self)\u001b[0m\n\u001b[1;32m     90\u001b[0m \u001b[38;5;28;01mfor\u001b[39;00m S_idx, s \u001b[38;5;129;01min\u001b[39;00m \u001b[38;5;28menumerate\u001b[39m(\u001b[38;5;28mself\u001b[39m\u001b[38;5;241m.\u001b[39mproblem\u001b[38;5;241m.\u001b[39minit_S_J):\n\u001b[1;32m     91\u001b[0m     s_agg \u001b[38;5;241m=\u001b[39m \u001b[38;5;28mself\u001b[39m\u001b[38;5;241m.\u001b[39mproblem\u001b[38;5;241m.\u001b[39mfunc2(S\u001b[38;5;241m=\u001b[39ms)\n\u001b[0;32m---> 92\u001b[0m     total_reward \u001b[38;5;241m=\u001b[39m \u001b[43ms_value_json\u001b[49m\u001b[43m[\u001b[49m\u001b[38;5;241;43m0\u001b[39;49m\u001b[43m]\u001b[49m\u001b[38;5;241m.\u001b[39mget(s_agg)[\u001b[38;5;124m\"\u001b[39m\u001b[38;5;124mtotal_reward\u001b[39m\u001b[38;5;124m\"\u001b[39m]\n\u001b[1;32m     93\u001b[0m     count \u001b[38;5;241m=\u001b[39m s_value_json[\u001b[38;5;241m0\u001b[39m]\u001b[38;5;241m.\u001b[39mget(s_agg)[\u001b[38;5;124m\"\u001b[39m\u001b[38;5;124mcount\u001b[39m\u001b[38;5;124m\"\u001b[39m]\n\u001b[1;32m     94\u001b[0m     \u001b[38;5;28;01mif\u001b[39;00m count\u001b[38;5;241m>\u001b[39m\u001b[38;5;241m=\u001b[39m\u001b[38;5;241m1\u001b[39m:\n",
      "\u001b[0;31mTypeError\u001b[0m: 'NoneType' object is not subscriptable"
     ]
    }
   ],
   "source": [
    "task.run_benchmark_count_big_1()"
   ]
  },
  {
   "cell_type": "code",
   "execution_count": null,
   "metadata": {},
   "outputs": [],
   "source": [
    "count_nums = [6,7,10,13,32]\n",
    "task.problem.init_S_J()"
   ]
  },
  {
   "cell_type": "code",
   "execution_count": null,
   "metadata": {},
   "outputs": [],
   "source": [
    "# 1. 为什么不同的Z的结果一样\n",
    "# 因为对于S0 可能命中率低，加上之前的没有限制X（基于这个问题，应该要问\n",
    "# 2. 为什么Z越小反而命中率小？\n",
    "\n",
    "# # todo \n",
    "# 3.arrving_rate/ 保存到init 文件夹\n",
    "# # city_collection 保存到init 文件夹\n",
    "# a_keys = all_json."
   ]
  },
  {
   "cell_type": "code",
   "execution_count": 4,
   "metadata": {},
   "outputs": [
    {
     "name": "stdout",
     "output_type": "stream",
     "text": [
      "分配3个簇: [[1, 2, 3, 4, 5, 6, 7, 8, 9], [10, 11, 12, 13, 14, 15, 16, 17, 18], [19, 20, 21, 22, 23, 24, 25, 26]]\n",
      "分配5个簇: [[1, 2, 3, 4, 5, 6], [7, 8, 9, 10, 11, 12], [13, 14, 15, 16, 17, 18], [19, 20, 21, 22, 23, 24], [25, 26]]\n",
      "分配9个簇: [[1, 2, 3], [4, 5, 6], [7, 8, 9], [10, 11, 12], [13, 14, 15], [16, 17, 18], [19, 20, 21], [22, 23, 24], [25, 26]]\n"
     ]
    }
   ],
   "source": [
    "class ArraySplitter:\n",
    "    def split_array_given_array(self, arr_city_idx, Z_cluster_num) -> list:\n",
    "\n",
    "        result = []\n",
    "        quotient = len(arr_city_idx) // Z_cluster_num+1\n",
    "        remainder = len(arr_city_idx) % Z_cluster_num\n",
    "\n",
    "        for i in range(Z_cluster_num):\n",
    "            sub_array = arr_city_idx[i * quotient : (i + 1) * quotient]\n",
    "            result.append(sub_array)\n",
    "        return result\n",
    "\n",
    "# 示例使用\n",
    "splitter = ArraySplitter()\n",
    "arr_city_idx = list(range(1, 27))  # 示例城市索引列表 [1, 2, ..., 26]\n",
    "\n",
    "# 分配3个簇\n",
    "Z_cluster_num_3 = 3\n",
    "result_3 = splitter.split_array_given_array(arr_city_idx, Z_cluster_num_3)\n",
    "print(\"分配3个簇:\", result_3)\n",
    "\n",
    "# 分配5个簇\n",
    "Z_cluster_num_5 = 5\n",
    "result_5 = splitter.split_array_given_array(arr_city_idx, Z_cluster_num_5)\n",
    "print(\"分配5个簇:\", result_5)\n",
    "\n",
    "# 分配9个簇\n",
    "Z_cluster_num_9 = 9\n",
    "result_9 = splitter.split_array_given_array(arr_city_idx, Z_cluster_num_9)\n",
    "print(\"分配9个簇:\", result_9)"
   ]
  },
  {
   "cell_type": "code",
   "execution_count": null,
   "metadata": {},
   "outputs": [],
   "source": []
  }
 ],
 "metadata": {
  "kernelspec": {
   "display_name": "base",
   "language": "python",
   "name": "python3"
  },
  "language_info": {
   "codemirror_mode": {
    "name": "ipython",
    "version": 3
   },
   "file_extension": ".py",
   "mimetype": "text/x-python",
   "name": "python",
   "nbconvert_exporter": "python",
   "pygments_lexer": "ipython3",
   "version": "3.9.12"
  }
 },
 "nbformat": 4,
 "nbformat_minor": 2
}
