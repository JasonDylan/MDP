{
 "cells": [
  {
   "cell_type": "code",
   "execution_count": 1,
   "metadata": {},
   "outputs": [],
   "source": [
    "import numpy as np\n",
    "#函数1\n",
    "def generate_state(I, L, W, M, x, H, lambd):\n",
    "    # Generate matrix (n_il)\n",
    "    S=[]\n",
    "    n_il = np.zeros((I, L), dtype=int)\n",
    "    for i in range(I):\n",
    "        for l in range(L):\n",
    "            n_il[i, l] = np.random.poisson(lambd[i, l])\n",
    "    S0=n_il.tolist()\n",
    "    \n",
    "    S1=[]\n",
    "    for m in range(M):\n",
    "        w_m = np.random.randint(0,W+1)\n",
    "        if w_m == W:\n",
    "            i_m = H[m]\n",
    "        else:\n",
    "            i_m = np.random.randint(1, I+1)\n",
    "        S1.append((i_m, w_m))\n",
    "    S=(S0,S1)    \n",
    "\n",
    "    return S"
   ]
  },
  {
   "cell_type": "code",
   "execution_count": 2,
   "metadata": {},
   "outputs": [
    {
     "name": "stdout",
     "output_type": "stream",
     "text": [
      "([[1, 0, 0, 0, 2], [2, 2, 0, 0, 1], [0, 0, 0, 1, 2], [2, 1, 0, 0, 0], [2, 0, 0, 0, 2]], [(1, 6), (5, 0), (1, 1), (4, 1), (4, 6), (5, 1), (5, 3)])\n"
     ]
    }
   ],
   "source": [
    "I = 5\n",
    "L = 5\n",
    "W = 6\n",
    "M = 7\n",
    "x = 2\n",
    "H = [1,2,3,2,4,5,7]\n",
    "lambd = np.random.rand(I, L)\n",
    "state = generate_state(I, L, W, M, x, H, lambd)\n",
    "print(state)"
   ]
  },
  {
   "cell_type": "code",
   "execution_count": 3,
   "metadata": {},
   "outputs": [],
   "source": [
    "def aggreg_state(S, Z, X, M, I, L,W):\n",
    "    #函数2\n",
    "    barM = sum([1 for i in range(M) if S[1][i][1] != W])  \n",
    "    cluster = split_list(I, Z)\n",
    "    num_cluster = divide_reminder(I, Z)\n",
    "    g = num_cluster*[0]\n",
    "    \n",
    "    # 状态的第二部分压缩\n",
    "    for z in range(num_cluster):\n",
    "        e_z = sum([1 for m in range(M) if S[1][m][0] in cluster[z]])\n",
    "        if e_z == 0:\n",
    "            g[z] = 0\n",
    "        elif e_z <= barM / num_cluster:\n",
    "            g[z] = 1\n",
    "        else:\n",
    "            g[z] = 2\n",
    "    w = S[1][0][1]    \n",
    "    \n",
    "    #状态的第一部分压缩\n",
    "    N=[[0] * L for _ in range(num_cluster)]\n",
    "    for z in range(num_cluster):\n",
    "        for l in range(L):\n",
    "            N[z][l] = min(X, sum([S[0][i-1][l] for i in cluster[z]]))\n",
    "            \n",
    "    barS =(N,g,w)        \n",
    "    return barS\n",
    "\n",
    "def split_list(I, Z):\n",
    "    arr = list(range(1, I + 1))\n",
    "    return split_array_given_array(arr, Z)\n",
    "\n",
    "def split_array_given_array(arr, Z):\n",
    "    result = []\n",
    "    quotient = len(arr) // Z  # 整除的商\n",
    "    remainder = len(arr) % Z  # 余数\n",
    "    \n",
    "    # 划分整除部分的数组\n",
    "    for i in range(quotient):\n",
    "        sub_array = arr[i * Z:(i + 1) * Z]\n",
    "        result.append(sub_array)\n",
    "    \n",
    "    # 单独处理余数部分的数组\n",
    "    if remainder > 0:\n",
    "        sub_array = arr[-remainder:]\n",
    "        result.append(sub_array)  \n",
    "    return result\n",
    "\n",
    "def divide_reminder(num, divisor):\n",
    "    quotient = num // divisor  # 整除的商\n",
    "    remainder = num % divisor  # 余数\n",
    "    \n",
    "    if remainder > 0:\n",
    "        quotient += 1    \n",
    "    return quotient"
   ]
  },
  {
   "cell_type": "code",
   "execution_count": 4,
   "metadata": {},
   "outputs": [
    {
     "name": "stdout",
     "output_type": "stream",
     "text": [
      "([[3, 2, 0, 1, 3], [3, 1, 0, 0, 2]], [1, 2], 6)\n"
     ]
    }
   ],
   "source": [
    "Z=3\n",
    "X=3\n",
    "M=7\n",
    "I=5\n",
    "L=5\n",
    "W=6\n",
    "barS=aggreg_state(state, Z, X, M, I, L, W)\n",
    "print(barS)"
   ]
  },
  {
   "cell_type": "code",
   "execution_count": 5,
   "metadata": {},
   "outputs": [],
   "source": [
    "from pulp import LpProblem, LpMaximize, LpVariable, lpSum, value"
   ]
  },
  {
   "cell_type": "code",
   "execution_count": 16,
   "metadata": {},
   "outputs": [],
   "source": [
    "from itertools import combinations_with_replacement, permutations\n",
    "import random\n",
    "#函数3a\n",
    "\n",
    "def matrix_dic(s0):  #二维列表转为一维字典\n",
    "    dic = {}\n",
    "    for i, row in enumerate(s0):\n",
    "        for j, value in enumerate(row):\n",
    "            dic[(i+1, j+1)] = value\n",
    "    return dic\n",
    "\n",
    "def decision_space(s0, M):\n",
    "    kk=matrix_dic(s0)\n",
    "    b=list(kk.keys())\n",
    "    a = []\n",
    "    b1=list(reversed(b))\n",
    "    for subset in combinations_with_replacement(b, M):\n",
    "        a.append(list(subset))\n",
    "    for subset in combinations_with_replacement(b1, M):\n",
    "        a.append(list(subset))\n",
    "    unique_sublists = set(tuple(sublist) for sublist in a)\n",
    "    a = [list(sublist) for sublist in unique_sublists]\n",
    "    return a\n",
    "\n",
    "def change_val(b, c, d):\n",
    "    a = b.copy()  \n",
    "    for i in range(len(c)):\n",
    "        a[c[i]] = d[i]  \n",
    "    return a\n",
    "\n",
    "def new_decision(hlist,llist,s,s0,M,W):\n",
    "    zerow=[]\n",
    "    for i in range(M):\n",
    "        if s[1][i][1] == W:\n",
    "            zerow.append(i)\n",
    "    inhome = [hlist[k] for k in zerow]\n",
    "    dec0 = [(x,0) for x in inhome]\n",
    "    de=decision_space(s0, M)\n",
    "    new_dec=[]\n",
    "    for j in range(len(de)):\n",
    "        n_dec = change_val(de[j],zerow,dec0)\n",
    "        new_dec.append(n_dec)\n",
    "    a = matrix_dic(s0)\n",
    "    keys_list = list(a.keys()) \n",
    "    #de=new_decision(hlist,s,s0,M,W)\n",
    "    a_dec=[]\n",
    "    for j in range(len(new_dec)):\n",
    "        for ke in keys_list:                    #重复值大于字典的value,则去掉\n",
    "            if new_dec[j].count(ke) <= a[ke]:\n",
    "                continue\n",
    "            a_dec.append(new_dec[j]) \n",
    "    final_dec=[] \n",
    "    for k in range(len(new_dec)):\n",
    "        for g in range(len(new_dec[k])):\n",
    "            if new_dec[k][g][1] >= llist[g]:\n",
    "                continue\n",
    "        final_dec.append(new_dec[k])\n",
    "    return final_dec\n"
   ]
  },
  {
   "cell_type": "code",
   "execution_count": 17,
   "metadata": {},
   "outputs": [
    {
     "name": "stdout",
     "output_type": "stream",
     "text": [
      "[[(3, 0), (5, 3), (5, 1), (3, 2), (2, 0), (1, 3), (1, 1)], [(3, 0), (4, 2), (4, 1), (3, 2), (2, 0), (1, 3), (1, 2)], [(3, 0), (1, 4), (1, 4), (4, 4), (2, 0), (5, 1), (5, 5)], [(3, 0), (5, 3), (4, 4), (4, 2), (2, 0), (4, 1), (2, 5)], [(3, 0), (4, 3), (4, 2), (3, 2), (2, 0), (2, 3), (1, 2)], [(3, 0), (2, 3), (3, 3), (5, 1), (2, 0), (5, 3), (5, 5)], [(3, 0), (4, 5), (4, 5), (4, 1), (2, 0), (2, 1), (1, 4)], [(3, 0), (4, 1), (3, 1), (2, 2), (2, 0), (2, 1), (1, 3)], [(3, 0), (4, 3), (3, 4), (3, 1), (2, 0), (2, 2), (1, 5)], [(3, 0), (2, 2), (2, 1), (2, 1), (2, 0), (2, 1), (1, 2)]]\n"
     ]
    }
   ],
   "source": [
    "hlist = random.choices(range(1, 5), k=7)  #函数3代入参数\n",
    "llist = [1,2,3,4,4,5,5]\n",
    "s = state\n",
    "s0=state[0]\n",
    "M=7\n",
    "W=6\n",
    "DDD = new_decision(hlist,llist,s,s0,M,W)\n",
    "print(DDD[:10])\n"
   ]
  },
  {
   "cell_type": "code",
   "execution_count": null,
   "metadata": {},
   "outputs": [],
   "source": []
  }
 ],
 "metadata": {
  "kernelspec": {
   "display_name": "Python 3",
   "language": "python",
   "name": "python3"
  },
  "language_info": {
   "codemirror_mode": {
    "name": "ipython",
    "version": 3
   },
   "file_extension": ".py",
   "mimetype": "text/x-python",
   "name": "python",
   "nbconvert_exporter": "python",
   "pygments_lexer": "ipython3",
   "version": "3.7.0"
  }
 },
 "nbformat": 4,
 "nbformat_minor": 2
}
